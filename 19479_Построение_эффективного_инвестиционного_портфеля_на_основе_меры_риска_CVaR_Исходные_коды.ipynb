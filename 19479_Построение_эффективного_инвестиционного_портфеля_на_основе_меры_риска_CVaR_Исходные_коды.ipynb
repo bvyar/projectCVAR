{
  "nbformat": 4,
  "nbformat_minor": 0,
  "metadata": {
    "colab": {
      "name": "19479_Построение эффективного инвестиционного портфеля на основе меры риска CVaR_Исходные коды.ipynb",
      "provenance": []
    },
    "kernelspec": {
      "display_name": "Python 3",
      "language": "python",
      "name": "python3"
    },
    "language_info": {
      "codemirror_mode": {
        "name": "ipython",
        "version": 3
      },
      "file_extension": ".py",
      "mimetype": "text/x-python",
      "name": "python",
      "nbconvert_exporter": "python",
      "pygments_lexer": "ipython3",
      "version": "3.7.4"
    }
  },
  "cells": [
    {
      "cell_type": "code",
      "metadata": {
        "colab_type": "code",
        "id": "whRQSspiI-RT",
        "colab": {}
      },
      "source": [
        "import numpy as np\n",
        "import pandas as pd\n",
        "import scipy.optimize\n",
        "import scipy.stats\n",
        "import matplotlib.pyplot as plt\n",
        "from scipy.stats import cumfreq\n",
        "from scipy.optimize import minimize\n",
        "from scipy.optimize import Bounds\n",
        "from collections import Counter"
      ],
      "execution_count": 0,
      "outputs": []
    },
    {
      "cell_type": "code",
      "metadata": {
        "colab_type": "code",
        "id": "HAFRTHOEI-Ra",
        "outputId": "d2a3b1be-b9d9-47e7-ed2e-89e498cdf080",
        "colab": {}
      },
      "source": [
        "data=pd.read_csv('VAR CVAR new.csv', sep = ';')\n",
        "data.tail(10)"
      ],
      "execution_count": 0,
      "outputs": [
        {
          "output_type": "execute_result",
          "data": {
            "text/html": [
              "<div>\n",
              "<style scoped>\n",
              "    .dataframe tbody tr th:only-of-type {\n",
              "        vertical-align: middle;\n",
              "    }\n",
              "\n",
              "    .dataframe tbody tr th {\n",
              "        vertical-align: top;\n",
              "    }\n",
              "\n",
              "    .dataframe thead th {\n",
              "        text-align: right;\n",
              "    }\n",
              "</style>\n",
              "<table border=\"1\" class=\"dataframe\">\n",
              "  <thead>\n",
              "    <tr style=\"text-align: right;\">\n",
              "      <th></th>\n",
              "      <th>Date</th>\n",
              "      <th>Gold</th>\n",
              "      <th>S&amp;P 500</th>\n",
              "      <th>NASDAQ</th>\n",
              "      <th>Copper</th>\n",
              "    </tr>\n",
              "  </thead>\n",
              "  <tbody>\n",
              "    <tr>\n",
              "      <td>1034</td>\n",
              "      <td>05.03.2000</td>\n",
              "      <td>288.6</td>\n",
              "      <td>1399.50</td>\n",
              "      <td>4587.16</td>\n",
              "      <td>0.781</td>\n",
              "    </tr>\n",
              "    <tr>\n",
              "      <td>1035</td>\n",
              "      <td>27.02.2000</td>\n",
              "      <td>288.8</td>\n",
              "      <td>1410.75</td>\n",
              "      <td>4442.87</td>\n",
              "      <td>0.791</td>\n",
              "    </tr>\n",
              "    <tr>\n",
              "      <td>1036</td>\n",
              "      <td>20.02.2000</td>\n",
              "      <td>293.0</td>\n",
              "      <td>1338.00</td>\n",
              "      <td>4178.58</td>\n",
              "      <td>0.814</td>\n",
              "    </tr>\n",
              "    <tr>\n",
              "      <td>1037</td>\n",
              "      <td>13.02.2000</td>\n",
              "      <td>305.2</td>\n",
              "      <td>1353.25</td>\n",
              "      <td>3965.75</td>\n",
              "      <td>0.830</td>\n",
              "    </tr>\n",
              "    <tr>\n",
              "      <td>1038</td>\n",
              "      <td>06.02.2000</td>\n",
              "      <td>311.1</td>\n",
              "      <td>1396.75</td>\n",
              "      <td>3968.89</td>\n",
              "      <td>0.843</td>\n",
              "    </tr>\n",
              "    <tr>\n",
              "      <td>1039</td>\n",
              "      <td>30.01.2000</td>\n",
              "      <td>310.4</td>\n",
              "      <td>1431.50</td>\n",
              "      <td>3874.37</td>\n",
              "      <td>0.824</td>\n",
              "    </tr>\n",
              "    <tr>\n",
              "      <td>1040</td>\n",
              "      <td>23.01.2000</td>\n",
              "      <td>283.0</td>\n",
              "      <td>1366.50</td>\n",
              "      <td>3446.13</td>\n",
              "      <td>0.830</td>\n",
              "    </tr>\n",
              "    <tr>\n",
              "      <td>1041</td>\n",
              "      <td>16.01.2000</td>\n",
              "      <td>289.3</td>\n",
              "      <td>1453.75</td>\n",
              "      <td>3849.96</td>\n",
              "      <td>0.867</td>\n",
              "    </tr>\n",
              "    <tr>\n",
              "      <td>1042</td>\n",
              "      <td>09.01.2000</td>\n",
              "      <td>283.9</td>\n",
              "      <td>1478.00</td>\n",
              "      <td>3704.74</td>\n",
              "      <td>0.855</td>\n",
              "    </tr>\n",
              "    <tr>\n",
              "      <td>1043</td>\n",
              "      <td>02.01.2000</td>\n",
              "      <td>281.9</td>\n",
              "      <td>1460.50</td>\n",
              "      <td>3529.60</td>\n",
              "      <td>0.846</td>\n",
              "    </tr>\n",
              "  </tbody>\n",
              "</table>\n",
              "</div>"
            ],
            "text/plain": [
              "            Date   Gold  S&P 500   NASDAQ  Copper\n",
              "1034  05.03.2000  288.6  1399.50  4587.16   0.781\n",
              "1035  27.02.2000  288.8  1410.75  4442.87   0.791\n",
              "1036  20.02.2000  293.0  1338.00  4178.58   0.814\n",
              "1037  13.02.2000  305.2  1353.25  3965.75   0.830\n",
              "1038  06.02.2000  311.1  1396.75  3968.89   0.843\n",
              "1039  30.01.2000  310.4  1431.50  3874.37   0.824\n",
              "1040  23.01.2000  283.0  1366.50  3446.13   0.830\n",
              "1041  16.01.2000  289.3  1453.75  3849.96   0.867\n",
              "1042  09.01.2000  283.9  1478.00  3704.74   0.855\n",
              "1043  02.01.2000  281.9  1460.50  3529.60   0.846"
            ]
          },
          "metadata": {
            "tags": []
          },
          "execution_count": 2
        }
      ]
    },
    {
      "cell_type": "code",
      "metadata": {
        "colab_type": "code",
        "id": "c9RWifkXI-Rh",
        "outputId": "02b180fb-2ce2-4589-ae02-a073d0363e83",
        "colab": {}
      },
      "source": [
        "data.head(10)"
      ],
      "execution_count": 0,
      "outputs": [
        {
          "output_type": "execute_result",
          "data": {
            "text/html": [
              "<div>\n",
              "<style scoped>\n",
              "    .dataframe tbody tr th:only-of-type {\n",
              "        vertical-align: middle;\n",
              "    }\n",
              "\n",
              "    .dataframe tbody tr th {\n",
              "        vertical-align: top;\n",
              "    }\n",
              "\n",
              "    .dataframe thead th {\n",
              "        text-align: right;\n",
              "    }\n",
              "</style>\n",
              "<table border=\"1\" class=\"dataframe\">\n",
              "  <thead>\n",
              "    <tr style=\"text-align: right;\">\n",
              "      <th></th>\n",
              "      <th>Date</th>\n",
              "      <th>Gold</th>\n",
              "      <th>S&amp;P 500</th>\n",
              "      <th>NASDAQ</th>\n",
              "      <th>Copper</th>\n",
              "    </tr>\n",
              "  </thead>\n",
              "  <tbody>\n",
              "    <tr>\n",
              "      <td>0</td>\n",
              "      <td>29.12.2019</td>\n",
              "      <td>1558.7</td>\n",
              "      <td>3235.50</td>\n",
              "      <td>8793.90</td>\n",
              "      <td>2.787</td>\n",
              "    </tr>\n",
              "    <tr>\n",
              "      <td>1</td>\n",
              "      <td>22.12.2019</td>\n",
              "      <td>1524.1</td>\n",
              "      <td>3237.50</td>\n",
              "      <td>8770.98</td>\n",
              "      <td>2.829</td>\n",
              "    </tr>\n",
              "    <tr>\n",
              "      <td>2</td>\n",
              "      <td>15.12.2019</td>\n",
              "      <td>1486.6</td>\n",
              "      <td>3231.02</td>\n",
              "      <td>8678.49</td>\n",
              "      <td>2.806</td>\n",
              "    </tr>\n",
              "    <tr>\n",
              "      <td>3</td>\n",
              "      <td>08.12.2019</td>\n",
              "      <td>1486.9</td>\n",
              "      <td>3172.00</td>\n",
              "      <td>8487.71</td>\n",
              "      <td>2.781</td>\n",
              "    </tr>\n",
              "    <tr>\n",
              "      <td>4</td>\n",
              "      <td>01.12.2019</td>\n",
              "      <td>1470.7</td>\n",
              "      <td>3146.00</td>\n",
              "      <td>8397.37</td>\n",
              "      <td>2.725</td>\n",
              "    </tr>\n",
              "    <tr>\n",
              "      <td>5</td>\n",
              "      <td>24.11.2019</td>\n",
              "      <td>1478.1</td>\n",
              "      <td>3143.75</td>\n",
              "      <td>8403.68</td>\n",
              "      <td>2.662</td>\n",
              "    </tr>\n",
              "    <tr>\n",
              "      <td>6</td>\n",
              "      <td>17.11.2019</td>\n",
              "      <td>1476.2</td>\n",
              "      <td>3111.50</td>\n",
              "      <td>8272.05</td>\n",
              "      <td>2.659</td>\n",
              "    </tr>\n",
              "    <tr>\n",
              "      <td>7</td>\n",
              "      <td>10.11.2019</td>\n",
              "      <td>1480.8</td>\n",
              "      <td>3118.25</td>\n",
              "      <td>8315.52</td>\n",
              "      <td>2.651</td>\n",
              "    </tr>\n",
              "    <tr>\n",
              "      <td>8</td>\n",
              "      <td>03.11.2019</td>\n",
              "      <td>1475.1</td>\n",
              "      <td>3090.50</td>\n",
              "      <td>8255.89</td>\n",
              "      <td>2.692</td>\n",
              "    </tr>\n",
              "    <tr>\n",
              "      <td>9</td>\n",
              "      <td>27.10.2019</td>\n",
              "      <td>1523.7</td>\n",
              "      <td>3063.25</td>\n",
              "      <td>8161.17</td>\n",
              "      <td>2.662</td>\n",
              "    </tr>\n",
              "  </tbody>\n",
              "</table>\n",
              "</div>"
            ],
            "text/plain": [
              "         Date    Gold  S&P 500   NASDAQ  Copper\n",
              "0  29.12.2019  1558.7  3235.50  8793.90   2.787\n",
              "1  22.12.2019  1524.1  3237.50  8770.98   2.829\n",
              "2  15.12.2019  1486.6  3231.02  8678.49   2.806\n",
              "3  08.12.2019  1486.9  3172.00  8487.71   2.781\n",
              "4  01.12.2019  1470.7  3146.00  8397.37   2.725\n",
              "5  24.11.2019  1478.1  3143.75  8403.68   2.662\n",
              "6  17.11.2019  1476.2  3111.50  8272.05   2.659\n",
              "7  10.11.2019  1480.8  3118.25  8315.52   2.651\n",
              "8  03.11.2019  1475.1  3090.50  8255.89   2.692\n",
              "9  27.10.2019  1523.7  3063.25  8161.17   2.662"
            ]
          },
          "metadata": {
            "tags": []
          },
          "execution_count": 3
        }
      ]
    },
    {
      "cell_type": "code",
      "metadata": {
        "colab_type": "code",
        "id": "ApiN7sJ-I-Ro",
        "outputId": "26e1ca96-e684-469a-e6cf-c09989e46cae",
        "colab": {}
      },
      "source": [
        "plt.plot(data['Date'][::-1],data['Gold'][::-1])"
      ],
      "execution_count": 0,
      "outputs": [
        {
          "output_type": "execute_result",
          "data": {
            "text/plain": [
              "[<matplotlib.lines.Line2D at 0x2d0c6a3e6c8>]"
            ]
          },
          "metadata": {
            "tags": []
          },
          "execution_count": 4
        },
        {
          "output_type": "display_data",
          "data": {
            "image/png": "[encoded data removed]",
            "text/plain": [
              "<Figure size 432x288 with 1 Axes>"
            ]
          },
          "metadata": {
            "tags": [],
            "needs_background": "light"
          }
        }
      ]
    },
    {
      "cell_type": "code",
      "metadata": {
        "colab_type": "code",
        "id": "NkNUFykjI-Rs",
        "outputId": "fea0e75d-78a2-4c03-8cc4-71c6a6027207",
        "colab": {}
      },
      "source": [
        "plt.plot(data['Date'][::-1],data['S&P 500'][::-1])"
      ],
      "execution_count": 0,
      "outputs": [
        {
          "output_type": "execute_result",
          "data": {
            "text/plain": [
              "[<matplotlib.lines.Line2D at 0x2d0c73c74c8>]"
            ]
          },
          "metadata": {
            "tags": []
          },
          "execution_count": 5
        },
        {
          "output_type": "display_data",
          "data": {
            "image/png": "[encoded data removed]",
            "text/plain": [
              "<Figure size 432x288 with 1 Axes>"
            ]
          },
          "metadata": {
            "tags": [],
            "needs_background": "light"
          }
        }
      ]
    },
    {
      "cell_type": "code",
      "metadata": {
        "colab_type": "code",
        "id": "urdBd4s4I-Ry",
        "outputId": "ced31d4f-9c99-41d8-c4b9-9358e93d6559",
        "colab": {}
      },
      "source": [
        "data_change = pd.DataFrame()\n",
        "data_change['Date'] = data['Date'][:-1]\n",
        "for asset in data.columns[1:]: # data.columns[1:] - массив, содержащий названия активов. Прохожу в цикле по всем активам.\n",
        "    new_column = asset + \"_change\"\n",
        "    size = data.shape[0] - 1\n",
        "    data_change[new_column] = [100*(data[asset][i] - data[asset][i + 1]) / data[asset][i + 1] for i in range(0,size,1)]\n",
        "data_change.head(10)"
      ],
      "execution_count": 0,
      "outputs": [
        {
          "output_type": "execute_result",
          "data": {
            "text/html": [
              "<div>\n",
              "<style scoped>\n",
              "    .dataframe tbody tr th:only-of-type {\n",
              "        vertical-align: middle;\n",
              "    }\n",
              "\n",
              "    .dataframe tbody tr th {\n",
              "        vertical-align: top;\n",
              "    }\n",
              "\n",
              "    .dataframe thead th {\n",
              "        text-align: right;\n",
              "    }\n",
              "</style>\n",
              "<table border=\"1\" class=\"dataframe\">\n",
              "  <thead>\n",
              "    <tr style=\"text-align: right;\">\n",
              "      <th></th>\n",
              "      <th>Date</th>\n",
              "      <th>Gold_change</th>\n",
              "      <th>S&amp;P 500_change</th>\n",
              "      <th>NASDAQ_change</th>\n",
              "      <th>Copper_change</th>\n",
              "    </tr>\n",
              "  </thead>\n",
              "  <tbody>\n",
              "    <tr>\n",
              "      <td>0</td>\n",
              "      <td>29.12.2019</td>\n",
              "      <td>2.270192</td>\n",
              "      <td>-0.061776</td>\n",
              "      <td>0.261316</td>\n",
              "      <td>-1.484624</td>\n",
              "    </tr>\n",
              "    <tr>\n",
              "      <td>1</td>\n",
              "      <td>22.12.2019</td>\n",
              "      <td>2.522535</td>\n",
              "      <td>0.200556</td>\n",
              "      <td>1.065738</td>\n",
              "      <td>0.819672</td>\n",
              "    </tr>\n",
              "    <tr>\n",
              "      <td>2</td>\n",
              "      <td>15.12.2019</td>\n",
              "      <td>-0.020176</td>\n",
              "      <td>1.860656</td>\n",
              "      <td>2.247721</td>\n",
              "      <td>0.898957</td>\n",
              "    </tr>\n",
              "    <tr>\n",
              "      <td>3</td>\n",
              "      <td>08.12.2019</td>\n",
              "      <td>1.101516</td>\n",
              "      <td>0.826446</td>\n",
              "      <td>1.075813</td>\n",
              "      <td>2.055046</td>\n",
              "    </tr>\n",
              "    <tr>\n",
              "      <td>4</td>\n",
              "      <td>01.12.2019</td>\n",
              "      <td>-0.500643</td>\n",
              "      <td>0.071571</td>\n",
              "      <td>-0.075086</td>\n",
              "      <td>2.366642</td>\n",
              "    </tr>\n",
              "    <tr>\n",
              "      <td>5</td>\n",
              "      <td>24.11.2019</td>\n",
              "      <td>0.128709</td>\n",
              "      <td>1.036478</td>\n",
              "      <td>1.591262</td>\n",
              "      <td>0.112824</td>\n",
              "    </tr>\n",
              "    <tr>\n",
              "      <td>6</td>\n",
              "      <td>17.11.2019</td>\n",
              "      <td>-0.310643</td>\n",
              "      <td>-0.216468</td>\n",
              "      <td>-0.522757</td>\n",
              "      <td>0.301773</td>\n",
              "    </tr>\n",
              "    <tr>\n",
              "      <td>7</td>\n",
              "      <td>10.11.2019</td>\n",
              "      <td>0.386414</td>\n",
              "      <td>0.897913</td>\n",
              "      <td>0.722272</td>\n",
              "      <td>-1.523031</td>\n",
              "    </tr>\n",
              "    <tr>\n",
              "      <td>8</td>\n",
              "      <td>03.11.2019</td>\n",
              "      <td>-3.189604</td>\n",
              "      <td>0.889578</td>\n",
              "      <td>1.160618</td>\n",
              "      <td>1.126972</td>\n",
              "    </tr>\n",
              "    <tr>\n",
              "      <td>9</td>\n",
              "      <td>27.10.2019</td>\n",
              "      <td>0.408567</td>\n",
              "      <td>1.423723</td>\n",
              "      <td>1.643373</td>\n",
              "      <td>-0.819672</td>\n",
              "    </tr>\n",
              "  </tbody>\n",
              "</table>\n",
              "</div>"
            ],
            "text/plain": [
              "         Date  Gold_change  S&P 500_change  NASDAQ_change  Copper_change\n",
              "0  29.12.2019     2.270192       -0.061776       0.261316      -1.484624\n",
              "1  22.12.2019     2.522535        0.200556       1.065738       0.819672\n",
              "2  15.12.2019    -0.020176        1.860656       2.247721       0.898957\n",
              "3  08.12.2019     1.101516        0.826446       1.075813       2.055046\n",
              "4  01.12.2019    -0.500643        0.071571      -0.075086       2.366642\n",
              "5  24.11.2019     0.128709        1.036478       1.591262       0.112824\n",
              "6  17.11.2019    -0.310643       -0.216468      -0.522757       0.301773\n",
              "7  10.11.2019     0.386414        0.897913       0.722272      -1.523031\n",
              "8  03.11.2019    -3.189604        0.889578       1.160618       1.126972\n",
              "9  27.10.2019     0.408567        1.423723       1.643373      -0.819672"
            ]
          },
          "metadata": {
            "tags": []
          },
          "execution_count": 6
        }
      ]
    },
    {
      "cell_type": "code",
      "metadata": {
        "colab_type": "code",
        "id": "yu28y886I-R2",
        "outputId": "4bb4ea97-fdbb-4ad6-8479-f0550de585e4",
        "colab": {}
      },
      "source": [
        "data_change.agg(['mean','std'])"
      ],
      "execution_count": 0,
      "outputs": [
        {
          "output_type": "execute_result",
          "data": {
            "text/html": [
              "<div>\n",
              "<style scoped>\n",
              "    .dataframe tbody tr th:only-of-type {\n",
              "        vertical-align: middle;\n",
              "    }\n",
              "\n",
              "    .dataframe tbody tr th {\n",
              "        vertical-align: top;\n",
              "    }\n",
              "\n",
              "    .dataframe thead th {\n",
              "        text-align: right;\n",
              "    }\n",
              "</style>\n",
              "<table border=\"1\" class=\"dataframe\">\n",
              "  <thead>\n",
              "    <tr style=\"text-align: right;\">\n",
              "      <th></th>\n",
              "      <th>Gold_change</th>\n",
              "      <th>S&amp;P 500_change</th>\n",
              "      <th>NASDAQ_change</th>\n",
              "      <th>Copper_change</th>\n",
              "    </tr>\n",
              "  </thead>\n",
              "  <tbody>\n",
              "    <tr>\n",
              "      <td>mean</td>\n",
              "      <td>0.192489</td>\n",
              "      <td>0.106236</td>\n",
              "      <td>0.149062</td>\n",
              "      <td>0.180158</td>\n",
              "    </tr>\n",
              "    <tr>\n",
              "      <td>std</td>\n",
              "      <td>2.382692</td>\n",
              "      <td>2.432328</td>\n",
              "      <td>3.487696</td>\n",
              "      <td>3.606131</td>\n",
              "    </tr>\n",
              "  </tbody>\n",
              "</table>\n",
              "</div>"
            ],
            "text/plain": [
              "      Gold_change  S&P 500_change  NASDAQ_change  Copper_change\n",
              "mean     0.192489        0.106236       0.149062       0.180158\n",
              "std      2.382692        2.432328       3.487696       3.606131"
            ]
          },
          "metadata": {
            "tags": []
          },
          "execution_count": 7
        }
      ]
    },
    {
      "cell_type": "code",
      "metadata": {
        "colab_type": "code",
        "id": "vDuyvy8kI-R8",
        "outputId": "3b801743-062e-43ba-e0d1-64a3d9fb232d",
        "colab": {}
      },
      "source": [
        "data_change.corr()"
      ],
      "execution_count": 0,
      "outputs": [
        {
          "output_type": "execute_result",
          "data": {
            "text/html": [
              "<div>\n",
              "<style scoped>\n",
              "    .dataframe tbody tr th:only-of-type {\n",
              "        vertical-align: middle;\n",
              "    }\n",
              "\n",
              "    .dataframe tbody tr th {\n",
              "        vertical-align: top;\n",
              "    }\n",
              "\n",
              "    .dataframe thead th {\n",
              "        text-align: right;\n",
              "    }\n",
              "</style>\n",
              "<table border=\"1\" class=\"dataframe\">\n",
              "  <thead>\n",
              "    <tr style=\"text-align: right;\">\n",
              "      <th></th>\n",
              "      <th>Gold_change</th>\n",
              "      <th>S&amp;P 500_change</th>\n",
              "      <th>NASDAQ_change</th>\n",
              "      <th>Copper_change</th>\n",
              "    </tr>\n",
              "  </thead>\n",
              "  <tbody>\n",
              "    <tr>\n",
              "      <td>Gold_change</td>\n",
              "      <td>1.000000</td>\n",
              "      <td>0.004757</td>\n",
              "      <td>-0.000773</td>\n",
              "      <td>0.272916</td>\n",
              "    </tr>\n",
              "    <tr>\n",
              "      <td>S&amp;P 500_change</td>\n",
              "      <td>0.004757</td>\n",
              "      <td>1.000000</td>\n",
              "      <td>0.814579</td>\n",
              "      <td>0.375393</td>\n",
              "    </tr>\n",
              "    <tr>\n",
              "      <td>NASDAQ_change</td>\n",
              "      <td>-0.000773</td>\n",
              "      <td>0.814579</td>\n",
              "      <td>1.000000</td>\n",
              "      <td>0.277994</td>\n",
              "    </tr>\n",
              "    <tr>\n",
              "      <td>Copper_change</td>\n",
              "      <td>0.272916</td>\n",
              "      <td>0.375393</td>\n",
              "      <td>0.277994</td>\n",
              "      <td>1.000000</td>\n",
              "    </tr>\n",
              "  </tbody>\n",
              "</table>\n",
              "</div>"
            ],
            "text/plain": [
              "                Gold_change  S&P 500_change  NASDAQ_change  Copper_change\n",
              "Gold_change        1.000000        0.004757      -0.000773       0.272916\n",
              "S&P 500_change     0.004757        1.000000       0.814579       0.375393\n",
              "NASDAQ_change     -0.000773        0.814579       1.000000       0.277994\n",
              "Copper_change      0.272916        0.375393       0.277994       1.000000"
            ]
          },
          "metadata": {
            "tags": []
          },
          "execution_count": 8
        }
      ]
    },
    {
      "cell_type": "code",
      "metadata": {
        "colab_type": "code",
        "id": "D8vmm8pKI-SB",
        "colab": {}
      },
      "source": [
        "def Portfolio_change(x, number_of_assets):\n",
        "    size = data_change.shape[0]\n",
        "    size_assets = number_of_assets + 1 # т.к. начиная не с нулевого столбца, а с первого\n",
        "    portfolio_change = [0] * size # заполняю нулями массив изменений портфеля\n",
        "    for i in range(size): # прохожу по всем дням\n",
        "        for j in range(1,size_assets): # прохожу по активам\n",
        "            asset = data_change.columns[j]\n",
        "            portfolio_change[i] = portfolio_change[i] + (-1) * x[j - 1] * data_change[asset][i] # Это сумма xi * (1 - p_t+1 / p_t)\n",
        "    return portfolio_change"
      ],
      "execution_count": 0,
      "outputs": []
    },
    {
      "cell_type": "code",
      "metadata": {
        "colab_type": "code",
        "id": "9mIOEBqZI-SF",
        "outputId": "07ccb03f-292c-49a4-ed5e-2d1389f5ed93",
        "colab": {}
      },
      "source": [
        "size = len(Portfolio_change([0.25,0.25,0.25,0.25],4))\n",
        "v = (cumfreq(Portfolio_change([0.25,0.25,0.25,0.25],4), size))[0]\n",
        "func_empirical = [(v[i])/(size) for i in range(size)]\n",
        "plt.plot(np.array(sorted(Portfolio_change([0.25,0.25,0.25,0.25],4))),func_empirical)"
      ],
      "execution_count": 0,
      "outputs": [
        {
          "output_type": "execute_result",
          "data": {
            "text/plain": [
              "[<matplotlib.lines.Line2D at 0x2d0c91869c8>]"
            ]
          },
          "metadata": {
            "tags": []
          },
          "execution_count": 10
        },
        {
          "output_type": "display_data",
          "data": {
            "image/png": "[encoded data removed]",
            "text/plain": [
              "<Figure size 432x288 with 1 Axes>"
            ]
          },
          "metadata": {
            "tags": [],
            "needs_background": "light"
          }
        }
      ]
    },
    {
      "cell_type": "code",
      "metadata": {
        "colab_type": "code",
        "id": "s_x065xNI-SI",
        "outputId": "20be7b9f-8f69-4f8f-800f-bf2fa1fc5d98",
        "colab": {}
      },
      "source": [
        "plt.hist(np.array(sorted(Portfolio_change([0.25,0.25,0.25,0.25],4))), bins = 'auto')"
      ],
      "execution_count": 0,
      "outputs": [
        {
          "output_type": "execute_result",
          "data": {
            "text/plain": [
              "(array([  1.,   4.,   3.,   1.,   1.,   3.,   4.,   5.,  15.,  17.,  27.,\n",
              "         49.,  72.,  80.,  91., 114., 115., 103.,  84.,  85.,  39.,  38.,\n",
              "         25.,  20.,  15.,   9.,   7.,   3.,   4.,   1.,   1.,   1.,   0.,\n",
              "          1.,   0.,   0.,   1.,   2.,   0.,   0.,   0.,   1.,   0.,   1.]),\n",
              " array([-7.77896937, -7.31598087, -6.85299237, -6.39000388, -5.92701538,\n",
              "        -5.46402688, -5.00103838, -4.53804988, -4.07506139, -3.61207289,\n",
              "        -3.14908439, -2.68609589, -2.22310739, -1.7601189 , -1.2971304 ,\n",
              "        -0.8341419 , -0.3711534 ,  0.0918351 ,  0.55482359,  1.01781209,\n",
              "         1.48080059,  1.94378909,  2.40677759,  2.86976608,  3.33275458,\n",
              "         3.79574308,  4.25873158,  4.72172008,  5.18470857,  5.64769707,\n",
              "         6.11068557,  6.57367407,  7.03666257,  7.49965106,  7.96263956,\n",
              "         8.42562806,  8.88861656,  9.35160506,  9.81459355, 10.27758205,\n",
              "        10.74057055, 11.20355905, 11.66654755, 12.12953604, 12.59252454]),\n",
              " <a list of 44 Patch objects>)"
            ]
          },
          "metadata": {
            "tags": []
          },
          "execution_count": 11
        },
        {
          "output_type": "display_data",
          "data": {
            "image/png": "[encoded data removed]",
            "text/plain": [
              "<Figure size 432x288 with 1 Axes>"
            ]
          },
          "metadata": {
            "tags": [],
            "needs_background": "light"
          }
        }
      ]
    },
    {
      "cell_type": "code",
      "metadata": {
        "colab_type": "code",
        "id": "gZDyIw7FI-SL",
        "outputId": "60730def-04c2-4c02-ae9f-8d48d8eaeda8",
        "colab": {}
      },
      "source": [
        "def Portfolio_variance(x): # дисперсия портфеля\n",
        "    number_of_assets = len(x)\n",
        "    sum = 0\n",
        "    size = number_of_assets + 1 # т.к. начиная не с нулевого столбца, а с первого\n",
        "    for i in range(1,size):\n",
        "        asset = data_change.columns[i]\n",
        "        sum = sum + (x[i - 1]**2) * ((data_change[asset].std())**2)\n",
        "        for j in range(i + 1,size):\n",
        "            asset_next = data_change.columns[j]\n",
        "            sum = sum + 2 * x[i - 1] * x[j - 1] * data_change.corr()[asset][asset_next] * data_change[asset].std() * data_change[asset_next].std()\n",
        "    return (sum**(0.5))\n",
        "print(Portfolio_variance([0.25,0.25,0.25,0.25]))"
      ],
      "execution_count": 0,
      "outputs": [
        {
          "output_type": "stream",
          "text": [
            "2.0750370839481933\n"
          ],
          "name": "stdout"
        }
      ]
    },
    {
      "cell_type": "code",
      "metadata": {
        "colab_type": "code",
        "id": "qxlGzEkeI-SP",
        "outputId": "4dc94a00-f358-4cb7-d64e-5044999aaac1",
        "colab": {}
      },
      "source": [
        "eq_cons = {'type': 'eq',\n",
        "           'fun': lambda x: np.array([x[0] + x[1] + x[2] + x[3] - 1.0])\n",
        "          }\n",
        "\n",
        "bounds = Bounds(0,1)\n",
        "x0 = np.array([0.25,0.25,0.25,0.25])\n",
        "res = minimize(Portfolio_variance, x0, method = 'SLSQP', constraints = [eq_cons], options = {'maxiter': 100}, bounds = bounds)\n",
        "proportion = [res.x[0],res.x[1],res.x[2],res.x[3]]\n",
        "print(Portfolio_variance(proportion))\n",
        "print(res.x)"
      ],
      "execution_count": 0,
      "outputs": [
        {
          "output_type": "stream",
          "text": [
            "1.7058402614788655\n",
            "[5.05984535e-01 4.84072524e-01 8.01767507e-17 9.94294094e-03]\n"
          ],
          "name": "stdout"
        }
      ]
    },
    {
      "cell_type": "code",
      "metadata": {
        "colab_type": "code",
        "id": "q9eFPbMJI-ST",
        "colab": {}
      },
      "source": [
        "alpha = 0.9 # доверительный уровень\n",
        "bounds = Bounds(0,1) # условие в виде неравенства\n",
        "eq_cons = {'type': 'eq',\n",
        "           'fun': lambda x: np.array([x[0] + x[1] + x[2] + x[3] - 1.0]) # условие в виде равенства\n",
        "          }\n",
        "eq_cons2 = {'type': 'eq',\n",
        "           'fun': lambda x: np.array([x[0] + x[1] - 1.0]) # условие в виде равенства\n",
        "          }\n",
        "\n",
        "def CVAR(x,var):\n",
        "    number_of_assets = len(x)\n",
        "    size = data_change.shape[0]\n",
        "    portfolio_change = Portfolio_change(x, number_of_assets)\n",
        "    portfolio_change = np.array(sorted(portfolio_change))\n",
        "    min = portfolio_change.min()\n",
        "    max = portfolio_change.max()\n",
        "    interval = (max-min)/(size-1)\n",
        "    x = [(portfolio_change[0]+i*interval) for i in range(size)]\n",
        "    c = Counter(portfolio_change)\n",
        "    probability = [c[i] / size for i in portfolio_change]\n",
        "    k = np.column_stack((x,probability))\n",
        "    EX = 0\n",
        "    for i in range(size):\n",
        "        if (k[i][0] - var) > 0:\n",
        "            EX = EX + (k[i][0] - var) * probability[i]\n",
        "    CVAR = var + EX / (1 - alpha)\n",
        "    return (var + EX / (1 - alpha))\n",
        "def CVAR1(x):\n",
        "    return CVAR(x[:(len(x)-1)],x[(len(x)-1)])"
      ],
      "execution_count": 0,
      "outputs": []
    },
    {
      "cell_type": "code",
      "metadata": {
        "colab_type": "code",
        "id": "JUNjvqJDI-SW",
        "outputId": "59412009-1a47-48b4-cfe1-8e2bb1ce3b23",
        "colab": {}
      },
      "source": [
        "x0 = [1,0,0]\n",
        "res = minimize(CVAR1, x0, method = 'SLSQP', constraints = [eq_cons2], options = {'maxiter': 30,'ftol': 1e-16}, bounds = ((0, 1),(0, 1),(-15, 15)))\n",
        "print(res,CVAR1(res.x))"
      ],
      "execution_count": 0,
      "outputs": [
        {
          "output_type": "stream",
          "text": [
            "     fun: 7.555143737505533\n",
            "     jac: array([6.22627807e+00, 1.79380480e+01, 2.87634134e-03])\n",
            " message: 'Iteration limit exceeded'\n",
            "    nfev: 225\n",
            "     nit: 31\n",
            "    njev: 31\n",
            "  status: 9\n",
            " success: False\n",
            "       x: array([0.49251175, 0.50748825, 6.72554329]) 7.555143737505533\n"
          ],
          "name": "stdout"
        }
      ]
    },
    {
      "cell_type": "code",
      "metadata": {
        "colab_type": "code",
        "id": "n3-vpAgZI-SZ",
        "outputId": "9cb600fc-bcda-4248-c5ea-a8be646c90a4",
        "colab": {}
      },
      "source": [
        "x0 = [0.25,0.25,0.25,0.25,0]\n",
        "res = minimize(CVAR1, x0, method = 'SLSQP', constraints = [eq_cons], options = {'maxiter': 30,'ftol': 1e-6}, bounds = ((0, 1),(0, 1),(0, 1),(0, 1),(-15, 15)))\n",
        "print(res,CVAR1(res.x))"
      ],
      "execution_count": 0,
      "outputs": [
        {
          "output_type": "stream",
          "text": [
            "     fun: 7.049763872784316\n",
            "     jac: array([5.32004917e+00, 8.05773234e+00, 1.07931604e+01, 1.15488694e+01,\n",
            "       2.87634134e-03])\n",
            " message: 'Optimization terminated successfully.'\n",
            "    nfev: 122\n",
            "     nit: 15\n",
            "    njev: 15\n",
            "  status: 0\n",
            " success: True\n",
            "       x: array([6.87177889e-01, 0.00000000e+00, 3.12822111e-01, 1.77939219e-14,\n",
            "       6.12026641e+00]) 7.049763872784316\n"
          ],
          "name": "stdout"
        }
      ]
    },
    {
      "cell_type": "code",
      "metadata": {
        "colab_type": "code",
        "id": "IUsbgsc0I-Sc",
        "outputId": "98ad1fe7-621e-48c2-8105-4f86c362d706",
        "colab": {}
      },
      "source": [
        "for i in range(len(res.x)):\n",
        "    print('{:0.5f}'.format(res.x[i]), end = '\\t')"
      ],
      "execution_count": 0,
      "outputs": [
        {
          "output_type": "stream",
          "text": [
            "0.68718\t0.00000\t0.31282\t0.00000\t6.11969\t"
          ],
          "name": "stdout"
        }
      ]
    },
    {
      "cell_type": "code",
      "metadata": {
        "colab_type": "code",
        "id": "nYlkE1-eI-Se",
        "outputId": "c69310fd-c94f-45ee-e118-2269a4c1902a",
        "colab": {}
      },
      "source": [
        "for i in range(len(res.x)):\n",
        "    print('{:0.5f}'.format(res.x[i]), end = '\\t')\n",
        "print('{:0.5f}'.format(res.fun))\n",
        "for i in range(len(res.x) - 1):\n",
        "    print(data.columns[i+1], end = '\\t')\n",
        "print('VaR\\tCVaR')"
      ],
      "execution_count": 0,
      "outputs": [
        {
          "output_type": "stream",
          "text": [
            "0.68718\t0.00000\t0.31282\t0.00000\t6.11969\t7.04976\n",
            "Gold\tS&P 500\tNASDAQ\tCopper\tVaR\tCVaR\n"
          ],
          "name": "stdout"
        }
      ]
    },
    {
      "cell_type": "code",
      "metadata": {
        "colab_type": "code",
        "id": "IkoavYVkI-Sk",
        "outputId": "87eaf6f6-4f03-4609-f8ec-c8265802d9dc",
        "colab": {}
      },
      "source": [
        "number_of_assets = len(res.x) - 1\n",
        "portfolio_change = Portfolio_change(res.x[:-1], number_of_assets)\n",
        "size = len(portfolio_change)\n",
        "v = (cumfreq(portfolio_change, size))[0]\n",
        "func_empirical = [(v[i])/(size) for i in range(size)]\n",
        "plt.plot(np.array(sorted(portfolio_change)),func_empirical)\n",
        "plt.title(\"Функция распределения убытков портфеля\")\n",
        "plt.xlabel(\"ΔS\")\n",
        "plt.ylabel(\"F(ΔS)\")"
      ],
      "execution_count": 0,
      "outputs": [
        {
          "output_type": "execute_result",
          "data": {
            "text/plain": [
              "Text(0, 0.5, 'F(ΔS)')"
            ]
          },
          "metadata": {
            "tags": []
          },
          "execution_count": 25
        },
        {
          "output_type": "display_data",
          "data": {
            "image/png": "[encoded data removed]",
            "text/plain": [
              "<Figure size 432x288 with 1 Axes>"
            ]
          },
          "metadata": {
            "tags": [],
            "needs_background": "light"
          }
        }
      ]
    },
    {
      "cell_type": "code",
      "metadata": {
        "colab_type": "code",
        "id": "8uDJdWWjI-Sn",
        "outputId": "e8276f4c-df70-4786-f4a2-621d2536fb39",
        "colab": {}
      },
      "source": [
        "plt.hist(np.array(sorted(portfolio_change)), bins = 'auto')\n",
        "plt.title(\"Плотность распределения убытков оптимального портфеля\")\n",
        "plt.xlabel(\"ΔS\")\n",
        "plt.ylabel(\"Частота\")"
      ],
      "execution_count": 0,
      "outputs": [
        {
          "output_type": "execute_result",
          "data": {
            "text/plain": [
              "Text(0, 0.5, 'Частота')"
            ]
          },
          "metadata": {
            "tags": []
          },
          "execution_count": 33
        },
        {
          "output_type": "display_data",
          "data": {
            "image/png": "[encoded data removed]",
            "text/plain": [
              "<Figure size 432x288 with 1 Axes>"
            ]
          },
          "metadata": {
            "tags": [],
            "needs_background": "light"
          }
        }
      ]
    },
    {
      "cell_type": "code",
      "metadata": {
        "colab_type": "code",
        "id": "foo5dn8BI-Sq",
        "outputId": "68dbac7d-2170-4ccb-f6e3-66f5cd23cd2e",
        "scrolled": true,
        "colab": {}
      },
      "source": [
        "plt.hist(np.array(-data_change['Gold_change'][::-1]), bins = 'auto')\n",
        "plt.title(\"Плотность распределения убытков портфеля, состоящего только из золота\")\n",
        "plt.xlabel(\"ΔS\")\n",
        "plt.ylabel(\"Частота\")"
      ],
      "execution_count": 0,
      "outputs": [
        {
          "output_type": "execute_result",
          "data": {
            "text/plain": [
              "Text(0, 0.5, 'Частота')"
            ]
          },
          "metadata": {
            "tags": []
          },
          "execution_count": 32
        },
        {
          "output_type": "display_data",
          "data": {
            "image/png": "[encoded data removed]",
            "text/plain": [
              "<Figure size 432x288 with 1 Axes>"
            ]
          },
          "metadata": {
            "tags": [],
            "needs_background": "light"
          }
        }
      ]
    },
    {
      "cell_type": "code",
      "metadata": {
        "colab_type": "code",
        "id": "7aLTgi2BI-Ss",
        "outputId": "aa2c52fb-708d-4cb6-c5c6-bc393c9ee50e",
        "colab": {}
      },
      "source": [
        "np.quantile(sorted(Portfolio_change([6.87177823e-01, 1.52743371e-10, 3.12822177e-01, 1.30352577e-14],4)), 0.9) # VaR"
      ],
      "execution_count": 0,
      "outputs": [
        {
          "output_type": "execute_result",
          "data": {
            "text/plain": [
              "2.077482361705585"
            ]
          },
          "metadata": {
            "tags": []
          },
          "execution_count": 57
        }
      ]
    },
    {
      "cell_type": "code",
      "metadata": {
        "colab_type": "code",
        "id": "Ks95w-XrI-Sv",
        "outputId": "76268a48-e542-4911-c4c1-c7932413a661",
        "colab": {}
      },
      "source": [
        "data1=pd.read_csv('VAR_CVAR.csv')\n",
        "data1.tail(10)"
      ],
      "execution_count": 0,
      "outputs": [
        {
          "output_type": "execute_result",
          "data": {
            "text/html": [
              "<div>\n",
              "<style scoped>\n",
              "    .dataframe tbody tr th:only-of-type {\n",
              "        vertical-align: middle;\n",
              "    }\n",
              "\n",
              "    .dataframe tbody tr th {\n",
              "        vertical-align: top;\n",
              "    }\n",
              "\n",
              "    .dataframe thead th {\n",
              "        text-align: right;\n",
              "    }\n",
              "</style>\n",
              "<table border=\"1\" class=\"dataframe\">\n",
              "  <thead>\n",
              "    <tr style=\"text-align: right;\">\n",
              "      <th></th>\n",
              "      <th>Date</th>\n",
              "      <th>GOLD</th>\n",
              "      <th>S&amp;P 500</th>\n",
              "      <th>NASDAQ</th>\n",
              "      <th>Aluminum</th>\n",
              "    </tr>\n",
              "  </thead>\n",
              "  <tbody>\n",
              "    <tr>\n",
              "      <td>120</td>\n",
              "      <td>21.05.2019</td>\n",
              "      <td>1290.4</td>\n",
              "      <td>2866.00</td>\n",
              "      <td>7734.49</td>\n",
              "      <td>1837.25</td>\n",
              "    </tr>\n",
              "    <tr>\n",
              "      <td>121</td>\n",
              "      <td>20.05.2019</td>\n",
              "      <td>1294.6</td>\n",
              "      <td>2844.00</td>\n",
              "      <td>7647.02</td>\n",
              "      <td>1826.50</td>\n",
              "    </tr>\n",
              "    <tr>\n",
              "      <td>122</td>\n",
              "      <td>17.05.2019</td>\n",
              "      <td>1293.0</td>\n",
              "      <td>2862.00</td>\n",
              "      <td>7916.94</td>\n",
              "      <td>1790.50</td>\n",
              "    </tr>\n",
              "    <tr>\n",
              "      <td>123</td>\n",
              "      <td>16.05.2019</td>\n",
              "      <td>1303.5</td>\n",
              "      <td>2878.50</td>\n",
              "      <td>7910.59</td>\n",
              "      <td>1777.25</td>\n",
              "    </tr>\n",
              "    <tr>\n",
              "      <td>124</td>\n",
              "      <td>15.05.2019</td>\n",
              "      <td>1315.1</td>\n",
              "      <td>2855.00</td>\n",
              "      <td>7943.32</td>\n",
              "      <td>1768.75</td>\n",
              "    </tr>\n",
              "    <tr>\n",
              "      <td>125</td>\n",
              "      <td>14.05.2019</td>\n",
              "      <td>1313.6</td>\n",
              "      <td>2839.25</td>\n",
              "      <td>7963.76</td>\n",
              "      <td>1768.00</td>\n",
              "    </tr>\n",
              "    <tr>\n",
              "      <td>126</td>\n",
              "      <td>13.05.2019</td>\n",
              "      <td>1319.5</td>\n",
              "      <td>2807.00</td>\n",
              "      <td>8123.29</td>\n",
              "      <td>1788.50</td>\n",
              "    </tr>\n",
              "    <tr>\n",
              "      <td>127</td>\n",
              "      <td>10.05.2019</td>\n",
              "      <td>1305.3</td>\n",
              "      <td>2887.00</td>\n",
              "      <td>8164.00</td>\n",
              "      <td>1769.50</td>\n",
              "    </tr>\n",
              "    <tr>\n",
              "      <td>128</td>\n",
              "      <td>09.05.2019</td>\n",
              "      <td>1303.2</td>\n",
              "      <td>2872.75</td>\n",
              "      <td>8036.77</td>\n",
              "      <td>1790.50</td>\n",
              "    </tr>\n",
              "    <tr>\n",
              "      <td>129</td>\n",
              "      <td>08.05.2019</td>\n",
              "      <td>1299.5</td>\n",
              "      <td>2887.25</td>\n",
              "      <td>8049.64</td>\n",
              "      <td>1791.00</td>\n",
              "    </tr>\n",
              "  </tbody>\n",
              "</table>\n",
              "</div>"
            ],
            "text/plain": [
              "           Date    GOLD  S&P 500   NASDAQ  Aluminum\n",
              "120  21.05.2019  1290.4  2866.00  7734.49   1837.25\n",
              "121  20.05.2019  1294.6  2844.00  7647.02   1826.50\n",
              "122  17.05.2019  1293.0  2862.00  7916.94   1790.50\n",
              "123  16.05.2019  1303.5  2878.50  7910.59   1777.25\n",
              "124  15.05.2019  1315.1  2855.00  7943.32   1768.75\n",
              "125  14.05.2019  1313.6  2839.25  7963.76   1768.00\n",
              "126  13.05.2019  1319.5  2807.00  8123.29   1788.50\n",
              "127  10.05.2019  1305.3  2887.00  8164.00   1769.50\n",
              "128  09.05.2019  1303.2  2872.75  8036.77   1790.50\n",
              "129  08.05.2019  1299.5  2887.25  8049.64   1791.00"
            ]
          },
          "metadata": {
            "tags": []
          },
          "execution_count": 59
        }
      ]
    },
    {
      "cell_type": "code",
      "metadata": {
        "colab_type": "code",
        "id": "npa6BqkCI-Sy",
        "outputId": "49f5d36d-15f4-419c-8c05-513477eb12ba",
        "colab": {}
      },
      "source": [
        "data_change = pd.DataFrame()\n",
        "data_change['Date'] = data1['Date'][:-1]\n",
        "for asset in data1.columns[1:]: # data.columns[1:] - массив, содержащий названия активов. Прохожу в цикле по всем активам.\n",
        "    new_column = asset + \"_change\"\n",
        "    size = data1.shape[0] - 1\n",
        "    data_change[new_column] = [100*(data1[asset][i] - data1[asset][i + 1]) / data1[asset][i + 1] for i in range(0,size,1)]\n",
        "data_change.head(10)"
      ],
      "execution_count": 0,
      "outputs": [
        {
          "output_type": "execute_result",
          "data": {
            "text/html": [
              "<div>\n",
              "<style scoped>\n",
              "    .dataframe tbody tr th:only-of-type {\n",
              "        vertical-align: middle;\n",
              "    }\n",
              "\n",
              "    .dataframe tbody tr th {\n",
              "        vertical-align: top;\n",
              "    }\n",
              "\n",
              "    .dataframe thead th {\n",
              "        text-align: right;\n",
              "    }\n",
              "</style>\n",
              "<table border=\"1\" class=\"dataframe\">\n",
              "  <thead>\n",
              "    <tr style=\"text-align: right;\">\n",
              "      <th></th>\n",
              "      <th>Date</th>\n",
              "      <th>GOLD_change</th>\n",
              "      <th>S&amp;P 500_change</th>\n",
              "      <th>NASDAQ_change</th>\n",
              "      <th>Aluminum_change</th>\n",
              "    </tr>\n",
              "  </thead>\n",
              "  <tbody>\n",
              "    <tr>\n",
              "      <td>0</td>\n",
              "      <td>01.11.2019</td>\n",
              "      <td>-0.224452</td>\n",
              "      <td>0.905872</td>\n",
              "      <td>1.134056</td>\n",
              "      <td>1.589554</td>\n",
              "    </tr>\n",
              "    <tr>\n",
              "      <td>1</td>\n",
              "      <td>31.10.2019</td>\n",
              "      <td>1.209327</td>\n",
              "      <td>-0.393733</td>\n",
              "      <td>-0.139933</td>\n",
              "      <td>-0.254813</td>\n",
              "    </tr>\n",
              "    <tr>\n",
              "      <td>2</td>\n",
              "      <td>30.10.2019</td>\n",
              "      <td>0.402495</td>\n",
              "      <td>0.395289</td>\n",
              "      <td>0.327782</td>\n",
              "      <td>0.241237</td>\n",
              "    </tr>\n",
              "    <tr>\n",
              "      <td>3</td>\n",
              "      <td>29.10.2019</td>\n",
              "      <td>-0.340955</td>\n",
              "      <td>-0.016468</td>\n",
              "      <td>-0.590200</td>\n",
              "      <td>1.206377</td>\n",
              "    </tr>\n",
              "    <tr>\n",
              "      <td>4</td>\n",
              "      <td>28.10.2019</td>\n",
              "      <td>-0.631103</td>\n",
              "      <td>0.529757</td>\n",
              "      <td>1.005323</td>\n",
              "      <td>0.418229</td>\n",
              "    </tr>\n",
              "    <tr>\n",
              "      <td>5</td>\n",
              "      <td>25.10.2019</td>\n",
              "      <td>0.039875</td>\n",
              "      <td>0.532579</td>\n",
              "      <td>0.700237</td>\n",
              "      <td>0.347323</td>\n",
              "    </tr>\n",
              "    <tr>\n",
              "      <td>6</td>\n",
              "      <td>24.10.2019</td>\n",
              "      <td>0.601725</td>\n",
              "      <td>-0.049904</td>\n",
              "      <td>0.812952</td>\n",
              "      <td>-0.346121</td>\n",
              "    </tr>\n",
              "    <tr>\n",
              "      <td>7</td>\n",
              "      <td>23.10.2019</td>\n",
              "      <td>0.551261</td>\n",
              "      <td>0.375689</td>\n",
              "      <td>0.191133</td>\n",
              "      <td>0.594806</td>\n",
              "    </tr>\n",
              "    <tr>\n",
              "      <td>8</td>\n",
              "      <td>22.10.2019</td>\n",
              "      <td>-0.040320</td>\n",
              "      <td>-0.399135</td>\n",
              "      <td>-0.718977</td>\n",
              "      <td>-0.619954</td>\n",
              "    </tr>\n",
              "    <tr>\n",
              "      <td>9</td>\n",
              "      <td>21.10.2019</td>\n",
              "      <td>-0.401580</td>\n",
              "      <td>0.610725</td>\n",
              "      <td>0.907963</td>\n",
              "      <td>-0.715717</td>\n",
              "    </tr>\n",
              "  </tbody>\n",
              "</table>\n",
              "</div>"
            ],
            "text/plain": [
              "         Date  GOLD_change  S&P 500_change  NASDAQ_change  Aluminum_change\n",
              "0  01.11.2019    -0.224452        0.905872       1.134056         1.589554\n",
              "1  31.10.2019     1.209327       -0.393733      -0.139933        -0.254813\n",
              "2  30.10.2019     0.402495        0.395289       0.327782         0.241237\n",
              "3  29.10.2019    -0.340955       -0.016468      -0.590200         1.206377\n",
              "4  28.10.2019    -0.631103        0.529757       1.005323         0.418229\n",
              "5  25.10.2019     0.039875        0.532579       0.700237         0.347323\n",
              "6  24.10.2019     0.601725       -0.049904       0.812952        -0.346121\n",
              "7  23.10.2019     0.551261        0.375689       0.191133         0.594806\n",
              "8  22.10.2019    -0.040320       -0.399135      -0.718977        -0.619954\n",
              "9  21.10.2019    -0.401580        0.610725       0.907963        -0.715717"
            ]
          },
          "metadata": {
            "tags": []
          },
          "execution_count": 66
        }
      ]
    },
    {
      "cell_type": "code",
      "metadata": {
        "colab_type": "code",
        "id": "Z6rg040AI-S2",
        "outputId": "b24430a3-f290-47b2-ff70-81eeb838863a",
        "colab": {}
      },
      "source": [
        "x0 = [0.25,0.25,0.25,0.25,0]\n",
        "res = minimize(CVAR1, x0, method = 'SLSQP', constraints = [eq_cons], options = {'maxiter': 30,'ftol': 1e-6}, bounds = ((0, 1),(0, 1),(0, 1),(0, 1),(-15, 15)))\n",
        "print(res,CVAR1(res.x))"
      ],
      "execution_count": 0,
      "outputs": [
        {
          "output_type": "stream",
          "text": [
            "     fun: 0.6556114165167017\n",
            "     jac: array([-1.41953351,  3.31415189,  0.72614736,  1.00052976, -0.00775194])\n",
            " message: 'Optimization terminated successfully.'\n",
            "    nfev: 212\n",
            "     nit: 24\n",
            "    njev: 24\n",
            "  status: 0\n",
            " success: True\n",
            "       x: array([0.35064681, 0.24278274, 0.19711685, 0.2094536 , 0.50993865]) 0.6556114165167017\n"
          ],
          "name": "stdout"
        }
      ]
    },
    {
      "cell_type": "code",
      "metadata": {
        "colab_type": "code",
        "id": "pJEpp6GtI-S5",
        "outputId": "f4e0f4ef-fb56-49d4-f8d5-f16cd395b07a",
        "colab": {}
      },
      "source": [
        "np.quantile(sorted(Portfolio_change(res.x,4)), 0.9) # VaR"
      ],
      "execution_count": 0,
      "outputs": [
        {
          "output_type": "execute_result",
          "data": {
            "text/plain": [
              "0.49602888523761"
            ]
          },
          "metadata": {
            "tags": []
          },
          "execution_count": 69
        }
      ]
    },
    {
      "cell_type": "code",
      "metadata": {
        "id": "F00YEI2jueEi",
        "colab_type": "code",
        "colab": {}
      },
      "source": [
        "import seaborn as sns\n",
        "import numpy as np\n",
        "import pandas as pd\n",
        "import scipy.optimize\n",
        "import scipy.stats\n",
        "import matplotlib.pyplot as plt\n",
        "import yfinance as yf\n",
        "from tkinter import *\n",
        "from scipy.stats import cumfreq\n",
        "from scipy.optimize import minimize\n",
        "from scipy.optimize import Bounds\n",
        "from collections import Counter\n",
        "\n",
        "from matplotlib.backends.backend_tkagg import FigureCanvasTkAgg, NavigationToolbar2Tk\n",
        "from matplotlib.figure import Figure\n",
        "from tkinter import *  \n",
        "from tkinter import ttk \n",
        "sns.set_style('darkgrid')\n",
        "from matplotlib import cm"
      ],
      "execution_count": 0,
      "outputs": []
    },
    {
      "cell_type": "code",
      "metadata": {
        "id": "VUNFA-6YueEm",
        "colab_type": "code",
        "colab": {}
      },
      "source": [
        "cs=cm.Set2(np.arange(40)/7.)\n",
        "fig = Figure(figsize = (16, 9))\n",
        "fn = fig.subplots(2, 2)\n",
        "\n",
        "def Optimal_portf(data_change):\n",
        "    tickers = tickers_entry.get()\n",
        "    alpha = float(alpha_entry.get())\n",
        "    def Portfolio_change(x, number_of_assets):\n",
        "        size = data_change.shape[0]\n",
        "        size_assets = number_of_assets + 1 # т.к. начиная не с нулевого столбца, а с первого\n",
        "        portfolio_change = [0] * size # заполняю нулями массив изменений портфеля\n",
        "        for i in range(size): # прохожу по всем дням\n",
        "            for j in range(1,size_assets): # прохожу по активам\n",
        "                asset = data_change.columns[j - 1]\n",
        "                portfolio_change[i] = portfolio_change[i] + (-1) * x[j - 1] * data_change[asset][i] # Это сумма xi * (1 - p_t+1 / p_t)\n",
        "        return portfolio_change\n",
        "    \n",
        "    def CVAR(x,var):\n",
        "        number_of_assets = len(x)\n",
        "        size = data_change.shape[0]\n",
        "        portfolio_change = Portfolio_change(x, number_of_assets)\n",
        "        portfolio_change = np.array(sorted(portfolio_change))\n",
        "        c = Counter(portfolio_change)\n",
        "        probability = [c[i] / size for i in portfolio_change]\n",
        "        EX = 0\n",
        "        for i in range(size):\n",
        "            if (portfolio_change[i] - var) > 0:\n",
        "                EX = EX + (portfolio_change[i] - var) * probability[i]\n",
        "        CVAR = var + EX / (1 - alpha)\n",
        "        return (var + EX / (1 - alpha))\n",
        "    def CVAR1(x):\n",
        "        return CVAR(x[:(len(x)-1)],x[(len(x)-1)])\n",
        "\n",
        "    n = len(tickers.split(' ')) # kolvo activov\n",
        "    x0 = []\n",
        "    lim = []\n",
        "    for i in range(n):\n",
        "        x0.append(1/n)\n",
        "        lim.append((0, 1))\n",
        "    lim.append((-15, 15))\n",
        "    x0.append(0)\n",
        "    eq_cons = {'type': 'eq',\n",
        "                'fun': lambda x: np.sum(x[:(len(x)-1)]) - 1.0\n",
        "               }\n",
        "    \n",
        "    res = minimize(CVAR1, x0, method = 'SLSQP', constraints = [eq_cons], options = {'maxiter': 30,'ftol': 1e-6}, bounds = lim)\n",
        "    \n",
        "    portfolio_change = (-1) * np.array(Portfolio_change(res.x[:(len(res.x)-1)], len(res.x)-1))\n",
        "    dynamics = []\n",
        "    gold_dyn = []\n",
        "    change = 100\n",
        "    gold_change = 100\n",
        "    for i in range(len(portfolio_change)):\n",
        "        change = change * (1 + portfolio_change[i] / 100)\n",
        "        dynamics.append(change)\n",
        "    for i in range(len(data_change['GC=F_change'])):\n",
        "        gold_change = gold_change * (1 + data_change['GC=F_change'][i] / 100)\n",
        "        gold_dyn.append(gold_change)\n",
        "    fn[0, 0].plot(data_change.index, dynamics, color='b', label='На основе CVaR')\n",
        "    fn[0, 0].legend()\n",
        "    fn[0, 0].set_title('Относительная динамика доходности портфеля')\n",
        "    fn[1, 0].hist(np.array(sorted((-1) * portfolio_change)), bins = int(len(portfolio_change)/10), color='b', label='На основе CVaR')\n",
        "    fn[1, 0].axvline(res.x[len(res.x)-1], color = 'r', label='VaR', ls=\"--\")\n",
        "    fn[0, 0].legend()\n",
        "    fn[1, 0].legend()\n",
        "    fn[1, 0].set_title('Плотность распределения убытков портфеля')\n",
        "    fn[1, 0].set_xlabel(\"ΔS - убытки\")\n",
        "    fn[1, 0].set_ylabel(\"Частота\")\n",
        "    fn[0, 1].set_title('Доли портфеля на основе CVaR')\n",
        "\n",
        "    fn[0, 1].pie(res.x[:(len(res.x)-1)], labels=tickers.split(' '), autopct='%1.1f%%', colors = cs)\n",
        "    fn[0, 1].set_title('Доли портфеля на основе CVaR')\n",
        "    profit = portfolio_change.mean()\n",
        "\n",
        "    for i in range(len(res.x)):\n",
        "        text1.insert(END, '{:0.5f}\\t'.format(res.x[i]))\n",
        "    text1.insert(END, '{:0.5f}\\t'.format(res.fun))\n",
        "    text1.insert(END, '{:0.5f}\\n'.format(profit))\n",
        "    for i in range(len(res.x) - 1):\n",
        "        text1.insert(END, tickers.split(' ')[i] + \"\\t\")\n",
        "    text1.insert(END, 'VaR\\tCVaR\\tReturn\\n')\n",
        "    print(int(len(portfolio_change)/40))\n",
        "\n",
        "def clicked():\n",
        "    \n",
        "    tickers = tickers_entry.get()\n",
        "    alpha = float(alpha_entry.get())\n",
        "    data = yf.download(tickers, start=start_entry.get(), end=end_entry.get(), interval = int_entry.get())\n",
        "    data = data.dropna(axis='index', how='any')\n",
        "    \n",
        "    data_change = pd.DataFrame()\n",
        "    for asset in tickers.split(' '): # data.columns[1:] - массив, содержащий названия активов. Прохожу в цикле по всем активам.\n",
        "        new_column = asset + \"_change\"\n",
        "        size = data.shape[0] - 1\n",
        "        data_change[new_column] = [100*(data['Close'][asset][i + 1] - data['Close'][asset][i]) / data['Close'][asset][i] for i in range(0,size,1)]\n",
        "    data_change.index = data.index[1:]\n",
        "    Optimal_portf(data_change)\n",
        "    \n",
        "\n",
        "def clicked_variance():\n",
        "    tickers = tickers_entry.get()\n",
        "    data = yf.download(tickers, start=start_entry.get(), end=end_entry.get(), interval = int_entry.get())\n",
        "    data = data.dropna(axis='index', how='any')\n",
        "    data_change = pd.DataFrame()\n",
        "    for asset in tickers.split(' '): # data.columns[1:] - массив, содержащий названия активов. Прохожу в цикле по всем активам.\n",
        "        new_column = asset + \"_change\"\n",
        "        size = data.shape[0] - 1\n",
        "        data_change[new_column] = [100*(data['Close'][asset][i + 1] - data['Close'][asset][i]) / data['Close'][asset][i] for i in range(0,size,1)]\n",
        "    data_change.index = data.index[1:]\n",
        "    \n",
        "    def Portfolio_change(x, number_of_assets):\n",
        "        size = data_change.shape[0]\n",
        "        size_assets = number_of_assets + 1 # т.к. начиная не с нулевого столбца, а с первого\n",
        "        portfolio_change = [0] * size # заполняю нулями массив изменений портфеля\n",
        "        for i in range(size): # прохожу по всем дням\n",
        "            for j in range(1,size_assets): # прохожу по активам\n",
        "                asset = data_change.columns[j - 1]\n",
        "                portfolio_change[i] = portfolio_change[i] + (-1) * x[j - 1] * data_change[asset][i] # Это сумма xi * (1 - p_t+1 / p_t)\n",
        "        return portfolio_change\n",
        "    \n",
        "    def Portfolio_variance(x): # дисперсия портфеля\n",
        "        number_of_assets = len(x)\n",
        "        sum = 0\n",
        "        size = number_of_assets + 1 # т.к. начиная не с нулевого столбца, а с первого\n",
        "        for i in range(1,size):\n",
        "            asset = data_change.columns[i - 1]\n",
        "            sum = sum + (x[i - 1]**2) * ((data_change[asset].std())**2)\n",
        "            for j in range(i + 1,size):\n",
        "                asset_next = data_change.columns[j - 1]\n",
        "                sum = sum + 2 * x[i - 1] * x[j - 1] * data_change.corr()[asset][asset_next] * data_change[asset].std() * data_change[asset_next].std()\n",
        "        return (sum**(0.5))\n",
        "    n = len(tickers.split(' ')) # kolvo activov\n",
        "    x0 = []\n",
        "    lim = []\n",
        "    for i in range(n):\n",
        "        x0.append(1/n)\n",
        "        lim.append((0, 1))\n",
        "    eq_cons = {'type': 'eq',\n",
        "                'fun': lambda x: np.sum(x[:(len(x))]) - 1.0\n",
        "               }\n",
        "    res = minimize(Portfolio_variance, x0, method = 'SLSQP', constraints = [eq_cons], options = {'maxiter': 30,'ftol': 1e-6}, bounds = lim)\n",
        "    profit = ((-1)*np.array(Portfolio_change(res.x, len(res.x)))).mean()\n",
        "    portfolio_change = (-1) * np.array(Portfolio_change(res.x[:(len(res.x)-1)], len(res.x)-1))\n",
        "    dynamics = []\n",
        "    change = 100\n",
        "    for i in range(len(portfolio_change)):\n",
        "        change = change * (1 + portfolio_change[i] / 100)\n",
        "        dynamics.append(change)\n",
        "    \n",
        "    fn[0, 0].plot(data_change.index, dynamics, color='r', label='По Марковицу')\n",
        "    fn[0, 0].legend()\n",
        "    fn[1, 1].pie(res.x, labels=tickers.split(' '), autopct='%1.1f%%', colors = cs)\n",
        "    fn[1, 1].set_title('Доли портфеля по Марковицу')\n",
        "    \n",
        "    canvas = FigureCanvasTkAgg(fig, tab2)\n",
        "    canvas.draw()\n",
        "    canvas.get_tk_widget().pack()\n",
        "    for i in range(len(res.x)):\n",
        "        text2.insert(END, '{:0.5f}\\t'.format(res.x[i]))\n",
        "    text2.insert(END, '{:0.5f}\\t'.format(res.fun))\n",
        "    text2.insert(END, '{:0.5f}\\n'.format(profit))\n",
        "    for i in range(len(res.x)):\n",
        "        text2.insert(END, tickers.split(' ')[i] + \"\\t\")\n",
        "    text2.insert(END, 'DX\\tReturn\\n')\n",
        "    print(int(len(portfolio_change)/40))\n",
        "\n",
        "\n",
        "window = Tk()  \n",
        "window.title(\"Эффективный инвестиционный портфель на основе меры риска CVaR\")  \n",
        "window.geometry('800x550')\n",
        "\n",
        "tab_control = ttk.Notebook(window)  \n",
        "tab1 = ttk.Frame(tab_control)  \n",
        "tab2 = ttk.Frame(tab_control)  \n",
        "tab_control.add(tab1, text='Данные')  \n",
        "tab_control.add(tab2, text='Графики') \n",
        "\n",
        "tickers_lbl = Label(tab1, text=\"Введите символы активов через пробел:\",height=1,width=35,anchor=W, justify = LEFT, font=\"22\", padx=10, pady=3)  \n",
        "tickers_lbl.grid(column=0, row=0)  # позиция текста Привет в окне\n",
        "tickers_entry = Entry(tab1,width=49, font=\"20\")  \n",
        "tickers_entry.grid(column=1, row=0)  \n",
        "\n",
        "alpha_lbl = Label(tab1, text=\"Введите доверительный уровень:\",height=1,width=35,anchor=W, justify = LEFT, font=\"22\", padx=10, pady=3) \n",
        "alpha_lbl.grid(column=0, row=1)\n",
        "alpha_entry = Entry(tab1,width=49, font=\"20\")  \n",
        "alpha_entry.grid(column=1, row=1)  \n",
        "\n",
        "int_lbl = Label(tab1, text=\"Введите таймфрейм (1d, 1wk и т.д.):\",height=1,width=35,anchor=W, justify = LEFT, font=\"22\", padx=10, pady=3) \n",
        "int_lbl.grid(column=0, row=2)\n",
        "int_entry = Entry(tab1,width=49, font=\"20\")  \n",
        "int_entry.grid(column=1, row=2)  \n",
        "\n",
        "start_lbl = Label(tab1, text=\"Введите временной период с (гггг-мм-дд):\",height=1,width=35,anchor=W, justify = LEFT, font=\"22\", padx=10, pady=3) \n",
        "start_lbl.grid(column=0, row=3)\n",
        "start_entry = Entry(tab1,width=49, font=\"20\")  \n",
        "start_entry.grid(column=1, row=3) \n",
        "\n",
        "end_lbl = Label(tab1, text=\"По:\",height=1,width=35,anchor=W, justify = LEFT, font=\"22\", padx=10, pady=3) \n",
        "end_lbl.grid(column=0, row=4)\n",
        "end_entry = Entry(tab1,width=49, font=\"20\")  \n",
        "end_entry.grid(column=1, row=4)\n",
        "\n",
        "btn = Button(tab1, text=\"Построить оптимальный портфель\", command=clicked, anchor = CENTER)  \n",
        "btn.grid(column = 0, row=5, columnspan = 2, ipadx=10, ipady=6, padx=10, pady=10) \n",
        "\n",
        "t_lbl = Label(tab1, text=\"Доли эффективного портфеля и показатели VaR и CVaR:\",height=1,width=80,anchor=CENTER, font=\"22\", padx=10, pady=3) \n",
        "t_lbl.grid(column=0, row=6, columnspan = 2)\n",
        "\n",
        "text1=Text(tab1, height=6, width=80, font=\"22\")\n",
        "text1.grid(row=7, column=0, columnspan = 2, ipadx=15)\n",
        "\n",
        "btn2 = Button(tab1, text=\"Построить оптимальный портфель c минимальной дисперсией\", command=clicked_variance, anchor = CENTER)  \n",
        "btn2.grid(column = 0, row=8, columnspan = 2, ipadx=10, ipady=6, padx=10, pady=10) \n",
        "\n",
        "text2=Text(tab1, height=6, width=80, font=\"22\")\n",
        "text2.grid(row=9, column=0, columnspan = 2, ipadx=15)\n",
        "\n",
        "canvas = Canvas(tab2)\n",
        "\n",
        "tab_control.pack(expand=1, fill='both')  \n",
        "window.mainloop()"
      ],
      "execution_count": 0,
      "outputs": []
    }
  ]
}